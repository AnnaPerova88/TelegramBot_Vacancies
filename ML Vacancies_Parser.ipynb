{
  "nbformat": 4,
  "nbformat_minor": 0,
  "metadata": {
    "colab": {
      "private_outputs": true,
      "provenance": []
    },
    "kernelspec": {
      "name": "python3",
      "display_name": "Python 3"
    },
    "language_info": {
      "name": "python"
    }
  },
  "cells": [
    {
      "cell_type": "code",
      "execution_count": null,
      "metadata": {
        "id": "GdL-PF3Fza9m"
      },
      "outputs": [],
      "source": [
        "import requests\n",
        "import pandas as pd\n",
        "\n"
      ]
    },
    {
      "cell_type": "code",
      "source": [
        "# Функция для получения вакансий по запросу\n",
        "def get_vacancies(city_id, query, page=0, per_page=100):\n",
        "    url = 'https://api.hh.ru/vacancies'\n",
        "    params = {\n",
        "        'text': query,\n",
        "        'area': city_id,  # Москва - 1, Санкт-Петербург - 2\n",
        "        'page': page,\n",
        "        'per_page': per_page\n",
        "    }\n",
        "    response = requests.get(url, params=params)\n",
        "    return response.json()\n",
        "\n",
        "# Парсинг вакансий для Москвы и Санкт-Петербурга\n",
        "cities = {\n",
        "    'Москва': 1,\n",
        "    'Санкт-Петербург': 2\n",
        "}\n",
        "\n",
        "vacancies_list = []\n",
        "\n",
        "for city, city_id in cities.items():\n",
        "    for page in range(5):  # Парсинг первых 5 страниц\n",
        "        vacancies = get_vacancies(city_id, 'Data Scientist', page)\n",
        "        for item in vacancies['items']:\n",
        "            vacancies_list.append({\n",
        "                'Город': city,\n",
        "                'Название': item['name'],\n",
        "                'Компания': item['employer']['name'],\n",
        "                'Зарплата': item['salary'],\n",
        "                'Опубликовано': item['published_at'],\n",
        "                'URL': item['alternate_url']\n",
        "            })\n",
        "\n"
      ],
      "metadata": {
        "id": "1oSE9EkTzkc_"
      },
      "execution_count": null,
      "outputs": []
    },
    {
      "cell_type": "code",
      "source": [
        "# Создание DataFrame и сохранение в Excel\n",
        "df_vacancies = pd.DataFrame(vacancies_list)\n",
        "df_vacancies.to_excel('ds_vacancies_moscow_spb.xlsx', index=False)\n",
        "\n",
        "print('Данные сохранены в ds_vacancies_moscow_spb.xlsx')"
      ],
      "metadata": {
        "id": "x80FQ92Izqdv"
      },
      "execution_count": null,
      "outputs": []
    },
    {
      "cell_type": "code",
      "source": [
        "df_vacancies.head(50)"
      ],
      "metadata": {
        "id": "5fqNANTHz8wf"
      },
      "execution_count": null,
      "outputs": []
    },
    {
      "cell_type": "code",
      "source": [
        "# Подсчёт количества вакансий по городам\n",
        "vacancies_by_city = df_vacancies['Город'].value_counts()\n",
        "print(vacancies_by_city)"
      ],
      "metadata": {
        "id": "s3WzXm7W2K3m"
      },
      "execution_count": null,
      "outputs": []
    },
    {
      "cell_type": "code",
      "source": [
        "# Подсчёт количества вакансий по компаниям\n",
        "vacancies_by_company = df_vacancies['Компания'].value_counts()\n",
        "print(vacancies_by_company.head(10))  # Топ-10 компаний"
      ],
      "metadata": {
        "id": "pVTb5XkU2jNu"
      },
      "execution_count": null,
      "outputs": []
    },
    {
      "cell_type": "code",
      "source": [
        "# Подсчёт количества вакансий по компаниям\n",
        "vacancies_by_company = df_vacancies['Компания'].value_counts()\n",
        "print(vacancies_by_company.head(50))  # Топ-10 компаний"
      ],
      "metadata": {
        "id": "dVRbxJVa4wJc"
      },
      "execution_count": null,
      "outputs": []
    }
  ]
}